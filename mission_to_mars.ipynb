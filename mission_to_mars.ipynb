{
 "cells": [
  {
   "cell_type": "code",
   "execution_count": null,
   "id": "154de111",
   "metadata": {},
   "outputs": [],
   "source": [
    "# Import dependencies\n",
    "from bs4 import BeautifulSoup as bs\n",
    "from time import sleep\n",
    "import pandas as pd\n",
    "from splinter import Browser\n",
    "from splinter.exceptions import ElementDoesNotExist\n",
    "from selenium.webdriver import ActionChains\n",
    "from webdriver_manager.chrome import ChromeDriverManager\n",
    "from IPython.display import HTML"
   ]
  },
  {
   "cell_type": "code",
   "execution_count": null,
   "id": "5603edea",
   "metadata": {},
   "outputs": [],
   "source": [
    "executable_path = {'executable_path': ChromeDriverManager().install()}\n",
    "browser = Browser('chrome', **executable_path, headless=False)"
   ]
  },
  {
   "cell_type": "code",
   "execution_count": null,
   "id": "72cb8bf2",
   "metadata": {},
   "outputs": [],
   "source": [
    "#URL of the page to be scrapped\n",
    "\n",
    "url = 'https://redplanetscience.com'\n",
    "browser.visit(url)\n",
    "time.sleep(5)"
   ]
  },
  {
   "cell_type": "code",
   "execution_count": null,
   "id": "f6deb856",
   "metadata": {},
   "outputs": [],
   "source": [
    "# Create a Beautiful Soup object; parse with 'html.parser'\n",
    "\n",
    "soup = bs(browser.html, \"html.parser\")"
   ]
  },
  {
   "cell_type": "code",
   "execution_count": null,
   "id": "185c0808",
   "metadata": {},
   "outputs": [],
   "source": [
    "# Results are returned as an iterable list\n",
    "\n",
    "results = soup.find_all(\"li\",class_=\"slide\")"
   ]
  },
  {
   "cell_type": "code",
   "execution_count": null,
   "id": "071c303d",
   "metadata": {},
   "outputs": [],
   "source": [
    "# Extract title from the first result in list for the latest article\n",
    "\n",
    "news_title = results[0].find(\"div\",class_=\"content_title\").text\n",
    "print(news_title)"
   ]
  },
  {
   "cell_type": "code",
   "execution_count": null,
   "id": "d476d9bc",
   "metadata": {},
   "outputs": [],
   "source": [
    "# Extract paragraph from the first result in list for the latest article\n",
    "\n",
    "news_p = results[0].find(\"div\",class_=\"article_teaser_body\").text\n",
    "print(news_p)"
   ]
  },
  {
   "cell_type": "code",
   "execution_count": null,
   "id": "26ba43d7",
   "metadata": {},
   "outputs": [],
   "source": [
    "# JPL Mars Space Images - Featured Image"
   ]
  },
  {
   "cell_type": "code",
   "execution_count": null,
   "id": "60cc8cc2",
   "metadata": {},
   "outputs": [],
   "source": [
    "# URL of the page to be scrapped\n",
    "\n",
    "url = \"https://spaceimages-mars.com\"\n",
    "browser.visit(url)\n",
    "sleep(1)\n",
    "html = browser.html"
   ]
  },
  {
   "cell_type": "code",
   "execution_count": null,
   "id": "0b697056",
   "metadata": {},
   "outputs": [],
   "source": [
    "browser.links.find_by_partial_text('FULL IMAGE').click()"
   ]
  },
  {
   "cell_type": "code",
   "execution_count": null,
   "id": "4ab73355",
   "metadata": {},
   "outputs": [],
   "source": [
    "# Create a Beautiful Soup object; parse with 'html.parser'\n",
    "\n",
    "html = browser.html\n",
    "soup = BeautifulSoup(html, 'html.parser')"
   ]
  },
  {
   "cell_type": "code",
   "execution_count": null,
   "id": "99731452",
   "metadata": {},
   "outputs": [],
   "source": [
    "# Searching the link for the images\n",
    "\n",
    "header = soup.find('div', class_='header')\n",
    "result = header.find('div', class_='floating_text_area')\n",
    "link = result.find('a')\n",
    "href = link['href']\n",
    "full_link = url +'/'+ href\n",
    "print(full_link)"
   ]
  },
  {
   "cell_type": "code",
   "execution_count": null,
   "id": "b7e71cc4",
   "metadata": {},
   "outputs": [],
   "source": [
    "# Mars Facts"
   ]
  },
  {
   "cell_type": "code",
   "execution_count": null,
   "id": "73e793f5",
   "metadata": {},
   "outputs": [],
   "source": [
    "# URL of the page to be scrapped\n",
    "\n",
    "url = 'https://galaxyfacts-mars.com/'"
   ]
  },
  {
   "cell_type": "code",
   "execution_count": null,
   "id": "76d86f90",
   "metadata": {},
   "outputs": [],
   "source": [
    "# Use pandas 'read_html' function to scrape all tabular data from a page\n",
    "\n",
    "tables = pd.read_html(url)\n",
    "tables"
   ]
  },
  {
   "cell_type": "code",
   "execution_count": null,
   "id": "eb010883",
   "metadata": {},
   "outputs": [],
   "source": [
    "# Pandas dataframe \n",
    "\n",
    "mars_facts_df = tables[0]\n",
    "mars_facts_df.head()"
   ]
  },
  {
   "cell_type": "code",
   "execution_count": null,
   "id": "3ff97f65",
   "metadata": {},
   "outputs": [],
   "source": [
    "# Transforming dataframe to html\n",
    "\n",
    "mars_facts_html = mars_facts_df.to_html()\n",
    "mars_html_table=mars_facts_html.replace(\"\\n\", \"\")\n",
    "mars_html_table"
   ]
  },
  {
   "cell_type": "code",
   "execution_count": null,
   "id": "8572c252",
   "metadata": {},
   "outputs": [],
   "source": [
    "# Mars Hemispheres"
   ]
  },
  {
   "cell_type": "code",
   "execution_count": null,
   "id": "da4852ca",
   "metadata": {},
   "outputs": [],
   "source": [
    "# Creating dictionary for hemisphere images\n",
    "\n",
    "url = 'https://marshemispheres.com/'\n",
    "browser.visit(url)\n",
    "time.sleep(1)\n",
    "html = browser.html"
   ]
  },
  {
   "cell_type": "code",
   "execution_count": null,
   "id": "9ca2fb21",
   "metadata": {},
   "outputs": [],
   "source": [
    "# Loop: Use splinter to navigate to each hemisphere page and create dictionary with image title and url (full res)\n",
    "\n",
    "pictures_list = []\n",
    "hemispheres = [\"Cerberus Hemisphere Enhanced\", \"Schiaparelli Hemisphere Enhanced\", \"Syrtis Major Hemisphere Enhanced\",\"Valles Marineris Hemisphere Enhanced\"]\n",
    "for hemisphere in hemispheres:\n",
    "    html = browser.html\n",
    "    browser.links.find_by_partial_text(hemisphere).click()\n",
    "    html = browser.html\n",
    "    soup = BeautifulSoup(html, 'html.parser')\n",
    "    result = soup.find('div', class_='downloads')\n",
    "    image = result.find_all('li')\n",
    "    link = image[1]\n",
    "    a_tag = link.find('a')\n",
    "    href = a_tag['href']\n",
    "    full_url = url+href\n",
    "    dict = {\"title\": hemisphere, \"image_url\": full_url}\n",
    "    pictures_list.append(dict)\n",
    "    browser.links.find_by_partial_text(\"Back\").click()\n",
    "    \n",
    "    print(pictures_list)\n",
    "    "
   ]
  },
  {
   "cell_type": "code",
   "execution_count": null,
   "id": "09855fb0",
   "metadata": {},
   "outputs": [],
   "source": [
    "pictures_list[0]['title']"
   ]
  },
  {
   "cell_type": "code",
   "execution_count": null,
   "id": "bfcc0418",
   "metadata": {},
   "outputs": [],
   "source": []
  }
 ],
 "metadata": {
  "kernelspec": {
   "display_name": "Python 3 (ipykernel)",
   "language": "python",
   "name": "python3"
  },
  "language_info": {
   "codemirror_mode": {
    "name": "ipython",
    "version": 3
   },
   "file_extension": ".py",
   "mimetype": "text/x-python",
   "name": "python",
   "nbconvert_exporter": "python",
   "pygments_lexer": "ipython3",
   "version": "3.9.7"
  }
 },
 "nbformat": 4,
 "nbformat_minor": 5
}
